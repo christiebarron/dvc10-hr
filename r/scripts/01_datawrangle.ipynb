{
 "cells": [
  {
   "cell_type": "code",
   "execution_count": 1,
   "metadata": {},
   "outputs": [],
   "source": [
    "#uncomment if need to install dependencies\n",
    "\n",
    "#!pip install pandas\n",
    "#!pip install plotly\n",
    "#!pip install plotly.express\n",
    "#!pip install dash"
   ]
  },
  {
   "cell_type": "code",
   "execution_count": 3,
   "metadata": {},
   "outputs": [],
   "source": [
    "# load dependencies\n",
    "\n",
    "import pandas as pd\n",
    "#import plotly.express as px\n",
    "import plotly.graph_objects as go\n",
    "import plotly.io as io\n",
    "#io.renderers.default = 'browser' #to ensure prints as expect\n",
    "import dash\n",
    "from dash import dcc, html\n",
    "from dash.dependencies import Input, Output\n"
   ]
  },
  {
   "cell_type": "code",
   "execution_count": 4,
   "metadata": {},
   "outputs": [],
   "source": [
    "# read file\n",
    "filepath = '../data/raw/HRDataset_v14.xls.txt'\n",
    "hr_df = pd.read_csv(filepath, sep='\\t',  encoding='utf-16')"
   ]
  },
  {
   "cell_type": "code",
   "execution_count": 5,
   "metadata": {},
   "outputs": [
    {
     "data": {
      "text/plain": [
       "Index(['Employee_Name', 'EmpID', 'MarriedID', 'MaritalStatusID', 'GenderID',\n",
       "       'EmpStatusID', 'DeptID', 'PerfScoreID', 'FromDiversityJobFairID',\n",
       "       'Salary', 'Termd', 'PositionID', 'Position', 'State', 'Zip', 'DOB',\n",
       "       'Sex', 'MaritalDesc', 'CitizenDesc', 'HispanicLatino', 'RaceDesc',\n",
       "       'DateofHire', 'DateofTermination', 'TermReason', 'EmploymentStatus',\n",
       "       'Department', 'ManagerName', 'ManagerID', 'RecruitmentSource',\n",
       "       'PerformanceScore', 'EngagementSurvey', 'EmpSatisfaction',\n",
       "       'SpecialProjectsCount', 'LastPerformanceReview_Date', 'DaysLateLast30',\n",
       "       'Absences'],\n",
       "      dtype='object')"
      ]
     },
     "execution_count": 5,
     "metadata": {},
     "output_type": "execute_result"
    }
   ],
   "source": [
    "# check data\n",
    "hr_df.columns\n",
    "\n",
    "# convert EmpID, ManagerID, deptid to string.\n",
    "to_string = ['EmpID', 'MarriedID', 'DeptID']\n",
    "for var in to_string:\n",
    "    hr_df[var] = hr_df[var]\n",
    "# married, martial status, gender, emp status, fromdiv jobfair, recruitmentsource to unordered factor.\n",
    "\n",
    "# performance score, satisfaction as ordered factor.\n",
    "\n",
    "# lastperformReview_date as date object. \n",
    "\n",
    "# dayslate and abscences are counts."
   ]
  },
  {
   "cell_type": "code",
   "execution_count": 6,
   "metadata": {},
   "outputs": [
    {
     "name": "stdout",
     "output_type": "stream",
     "text": [
      "Employee_Name                  object\n",
      "EmpID                           int64\n",
      "MarriedID                       int64\n",
      "MaritalStatusID                 int64\n",
      "GenderID                        int64\n",
      "EmpStatusID                     int64\n",
      "DeptID                          int64\n",
      "PerfScoreID                     int64\n",
      "FromDiversityJobFairID          int64\n",
      "Salary                          int64\n",
      "Termd                           int64\n",
      "PositionID                      int64\n",
      "Position                       object\n",
      "State                          object\n",
      "Zip                             int64\n",
      "DOB                            object\n",
      "Sex                            object\n",
      "MaritalDesc                    object\n",
      "CitizenDesc                    object\n",
      "HispanicLatino                 object\n",
      "RaceDesc                       object\n",
      "DateofHire                     object\n",
      "DateofTermination              object\n",
      "TermReason                     object\n",
      "EmploymentStatus               object\n",
      "Department                     object\n",
      "ManagerName                    object\n",
      "ManagerID                     float64\n",
      "RecruitmentSource              object\n",
      "PerformanceScore               object\n",
      "EngagementSurvey              float64\n",
      "EmpSatisfaction                 int64\n",
      "SpecialProjectsCount            int64\n",
      "LastPerformanceReview_Date     object\n",
      "DaysLateLast30                  int64\n",
      "Absences                        int64\n",
      "dtype: object\n"
     ]
    },
    {
     "data": {
      "text/plain": [
       "<bound method DataFrame.info of                 Employee_Name  EmpID  MarriedID  MaritalStatusID  GenderID  \\\n",
       "0         Adinolfi, Wilson  K  10026          0                0         1   \n",
       "1    Ait Sidi, Karthikeyan     10084          1                1         1   \n",
       "2           Akinkuolie, Sarah  10196          1                1         0   \n",
       "3                Alagbe,Trina  10088          1                1         0   \n",
       "4            Anderson, Carol   10069          0                2         0   \n",
       "..                        ...    ...        ...              ...       ...   \n",
       "306            Woodson, Jason  10135          0                0         1   \n",
       "307        Ybarra, Catherine   10301          0                0         0   \n",
       "308          Zamora, Jennifer  10010          0                0         0   \n",
       "309               Zhou, Julia  10043          0                0         0   \n",
       "310             Zima, Colleen  10271          0                4         0   \n",
       "\n",
       "     EmpStatusID  DeptID  PerfScoreID  FromDiversityJobFairID  Salary  ...  \\\n",
       "0              1       5            4                       0   62506  ...   \n",
       "1              5       3            3                       0  104437  ...   \n",
       "2              5       5            3                       0   64955  ...   \n",
       "3              1       5            3                       0   64991  ...   \n",
       "4              5       5            3                       0   50825  ...   \n",
       "..           ...     ...          ...                     ...     ...  ...   \n",
       "306            1       5            3                       0   65893  ...   \n",
       "307            5       5            1                       0   48513  ...   \n",
       "308            1       3            4                       0  220450  ...   \n",
       "309            1       3            3                       0   89292  ...   \n",
       "310            1       5            3                       0   45046  ...   \n",
       "\n",
       "        ManagerName  ManagerID  RecruitmentSource PerformanceScore  \\\n",
       "0    Michael Albert       22.0           LinkedIn          Exceeds   \n",
       "1        Simon Roup        4.0             Indeed      Fully Meets   \n",
       "2    Kissy Sullivan       20.0           LinkedIn      Fully Meets   \n",
       "3      Elijiah Gray       16.0             Indeed      Fully Meets   \n",
       "4    Webster Butler       39.0      Google Search      Fully Meets   \n",
       "..              ...        ...                ...              ...   \n",
       "306  Kissy Sullivan       20.0           LinkedIn      Fully Meets   \n",
       "307  Brannon Miller       12.0      Google Search              PIP   \n",
       "308      Janet King        2.0  Employee Referral          Exceeds   \n",
       "309      Simon Roup        4.0  Employee Referral      Fully Meets   \n",
       "310   David Stanley       14.0           LinkedIn      Fully Meets   \n",
       "\n",
       "     EngagementSurvey EmpSatisfaction SpecialProjectsCount  \\\n",
       "0                4.60               5                    0   \n",
       "1                4.96               3                    6   \n",
       "2                3.02               3                    0   \n",
       "3                4.84               5                    0   \n",
       "4                5.00               4                    0   \n",
       "..                ...             ...                  ...   \n",
       "306              4.07               4                    0   \n",
       "307              3.20               2                    0   \n",
       "308              4.60               5                    6   \n",
       "309              5.00               3                    5   \n",
       "310              4.50               5                    0   \n",
       "\n",
       "    LastPerformanceReview_Date DaysLateLast30 Absences  \n",
       "0                    1/17/2019              0        1  \n",
       "1                    2/24/2016              0       17  \n",
       "2                    5/15/2012              0        3  \n",
       "3                     1/3/2019              0       15  \n",
       "4                     2/1/2016              0        2  \n",
       "..                         ...            ...      ...  \n",
       "306                  2/28/2019              0       13  \n",
       "307                   9/2/2015              5        4  \n",
       "308                  2/21/2019              0       16  \n",
       "309                   2/1/2019              0       11  \n",
       "310                  1/30/2019              0        2  \n",
       "\n",
       "[311 rows x 36 columns]>"
      ]
     },
     "execution_count": 6,
     "metadata": {},
     "output_type": "execute_result"
    }
   ],
   "source": [
    "# continuous variable EDA\n",
    "print(hr_df.dtypes) #data type\n",
    "hr_df.describe() #continuous descriptives\n",
    "len(hr_df.Employee_Name.unique()) #number of unique ids\n",
    "hr_df.info\n",
    "\n",
    "\n",
    "# Categorical variable EDA\n"
   ]
  },
  {
   "cell_type": "markdown",
   "metadata": {},
   "source": [
    "### Exploratory Data Analysis"
   ]
  },
  {
   "cell_type": "code",
   "execution_count": null,
   "metadata": {},
   "outputs": [],
   "source": [
    "hr_df"
   ]
  },
  {
   "cell_type": "markdown",
   "metadata": {},
   "source": [
    "### Planning\n",
    "\n",
    "\n",
    "#### Potential Dashboard Design\n",
    "\n",
    "Some great dashboard examples: \n",
    "- https://public.tableau.com/app/profile/pradeepkumar.g/viz/HRAttritionDashboardRWFD_16570446563570/viz \n",
    "- https://public.tableau.com/app/profile/gandes.goldestan/viz/HRDashboard_16284874251120/Overview\n",
    "- https://public.tableau.com/app/profile/frankie.benson/viz/HRDashboard-RWFD_16791683724400/HRExecutiveSummary \n",
    "\n",
    "#### Potential Research Questions\n",
    "\n",
    "- RQ 1: how are different departments doing regarding employee performance, engagement, satisfaction, Special Projects, Days Late (controlling for pay)?\n",
    "     - among employees currently in company\n",
    "- RQ 2: who are managers with above and beyond scores controlling for department, employee pay.\n",
    "- RQ3: how does employee performance vary based on Recruitment source? (controll for department, pay)\n",
    "- RQ4: if data longitudinal, what are the trajectories of performance over last 4 quarters?\n"
   ]
  },
  {
   "cell_type": "code",
   "execution_count": null,
   "metadata": {},
   "outputs": [],
   "source": []
  },
  {
   "cell_type": "code",
   "execution_count": null,
   "metadata": {},
   "outputs": [],
   "source": []
  }
 ],
 "metadata": {
  "kernelspec": {
   "display_name": "Python 3",
   "language": "python",
   "name": "python3"
  },
  "language_info": {
   "codemirror_mode": {
    "name": "ipython",
    "version": 3
   },
   "file_extension": ".py",
   "mimetype": "text/x-python",
   "name": "python",
   "nbconvert_exporter": "python",
   "pygments_lexer": "ipython3",
   "version": "3.12.4"
  }
 },
 "nbformat": 4,
 "nbformat_minor": 2
}
