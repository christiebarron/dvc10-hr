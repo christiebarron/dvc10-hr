{
 "cells": [
  {
   "cell_type": "code",
   "execution_count": 1,
   "metadata": {},
   "outputs": [],
   "source": [
    "#uncomment if need to install dependencies\n",
    "\n",
    "#!pip install pandas\n",
    "#!pip install plotly\n",
    "#!pip install plotly.express\n",
    "#!pip install dash"
   ]
  },
  {
   "cell_type": "code",
   "execution_count": null,
   "metadata": {},
   "outputs": [],
   "source": [
    "# Note to self: some great example dashboards\n",
    " # https://public.tableau.com/app/profile/pradeepkumar.g/viz/HRAttritionDashboardRWFD_16570446563570/viz #fav.\n",
    " # https://public.tableau.com/app/profile/gandes.goldestan/viz/HRDashboard_16284874251120/Overview\n",
    " # https://public.tableau.com/app/profile/frankie.benson/viz/HRDashboard-RWFD_16791683724400/HRExecutiveSummary "
   ]
  },
  {
   "cell_type": "code",
   "execution_count": 2,
   "metadata": {},
   "outputs": [],
   "source": [
    "# load dependencies\n",
    "\n",
    "import pandas as pd\n",
    "#import plotly.express as px\n",
    "import plotly.graph_objects as go\n",
    "import plotly.io as io\n",
    "#io.renderers.default = 'browser' #to ensure prints as expect\n",
    "import dash\n",
    "from dash import dcc, html\n",
    "from dash.dependencies import Input, Output\n"
   ]
  },
  {
   "cell_type": "code",
   "execution_count": 3,
   "metadata": {},
   "outputs": [],
   "source": [
    "# read file\n",
    "filepath = '../data/raw/HRDataset_v14.xls.txt'\n",
    "hr_df = pd.read_csv(filepath, sep='\\t',  encoding='utf-16')"
   ]
  },
  {
   "cell_type": "code",
   "execution_count": 6,
   "metadata": {},
   "outputs": [
    {
     "data": {
      "text/plain": [
       "Index(['Employee_Name', 'EmpID', 'MarriedID', 'MaritalStatusID', 'GenderID',\n",
       "       'EmpStatusID', 'DeptID', 'PerfScoreID', 'FromDiversityJobFairID',\n",
       "       'Salary', 'Termd', 'PositionID', 'Position', 'State', 'Zip', 'DOB',\n",
       "       'Sex', 'MaritalDesc', 'CitizenDesc', 'HispanicLatino', 'RaceDesc',\n",
       "       'DateofHire', 'DateofTermination', 'TermReason', 'EmploymentStatus',\n",
       "       'Department', 'ManagerName', 'ManagerID', 'RecruitmentSource',\n",
       "       'PerformanceScore', 'EngagementSurvey', 'EmpSatisfaction',\n",
       "       'SpecialProjectsCount', 'LastPerformanceReview_Date', 'DaysLateLast30',\n",
       "       'Absences'],\n",
       "      dtype='object')"
      ]
     },
     "execution_count": 6,
     "metadata": {},
     "output_type": "execute_result"
    }
   ],
   "source": [
    "# check data\n",
    "hr_df.columns\n",
    "\n",
    "# convert EmpID, ManagerID, deptid to string.\n",
    "\n",
    "# married, martial status, gender, emp status, fromdiv jobfair, recruitmentsource to unordered factor.\n",
    "\n",
    "# performance score, satisfaction as ordered factor.\n",
    "\n",
    "# lastperformReview_date as date object. \n",
    "\n",
    "# dayslate and abscences are counts."
   ]
  },
  {
   "cell_type": "code",
   "execution_count": 18,
   "metadata": {},
   "outputs": [
    {
     "name": "stdout",
     "output_type": "stream",
     "text": [
      "Employee_Name                  object\n",
      "EmpID                           int64\n",
      "MarriedID                       int64\n",
      "MaritalStatusID                 int64\n",
      "GenderID                        int64\n",
      "EmpStatusID                     int64\n",
      "DeptID                          int64\n",
      "PerfScoreID                     int64\n",
      "FromDiversityJobFairID          int64\n",
      "Salary                          int64\n",
      "Termd                           int64\n",
      "PositionID                      int64\n",
      "Position                       object\n",
      "State                          object\n",
      "Zip                             int64\n",
      "DOB                            object\n",
      "Sex                            object\n",
      "MaritalDesc                    object\n",
      "CitizenDesc                    object\n",
      "HispanicLatino                 object\n",
      "RaceDesc                       object\n",
      "DateofHire                     object\n",
      "DateofTermination              object\n",
      "TermReason                     object\n",
      "EmploymentStatus               object\n",
      "Department                     object\n",
      "ManagerName                    object\n",
      "ManagerID                     float64\n",
      "RecruitmentSource              object\n",
      "PerformanceScore               object\n",
      "EngagementSurvey              float64\n",
      "EmpSatisfaction                 int64\n",
      "SpecialProjectsCount            int64\n",
      "LastPerformanceReview_Date     object\n",
      "DaysLateLast30                  int64\n",
      "Absences                        int64\n",
      "dtype: object\n"
     ]
    },
    {
     "data": {
      "text/plain": [
       "11196"
      ]
     },
     "execution_count": 18,
     "metadata": {},
     "output_type": "execute_result"
    }
   ],
   "source": [
    "# continuous variable EDA\n",
    "print(hr_df.dtypes) #data type\n",
    "hr_df.describe() #continuous descriptives\n",
    "len(hr_df.Employee_Name.unique()) #number of unique ids\n",
    "hr_df.info\n",
    "\n",
    "\n",
    "# Categorical variable EDA\n"
   ]
  },
  {
   "cell_type": "code",
   "execution_count": null,
   "metadata": {},
   "outputs": [],
   "source": [
    "# RQ 1: how are different departments doing regarding employee performance, engagement, satisfaction, Special Projects, Days Late (controlling for pay)?\n",
    " #among employees currently in company\n",
    " # \n",
    "\n",
    "# RQ 2: who are managers with above and beyond scores controlling for department, employee pay.\n",
    "\n",
    "# RQ3: how does employee performance vary based on Recruitment source? (controll for department, pay)\n",
    "\n",
    "# RQ4: if data longitudinal, what are the trajectories of performance over last 4 quarters?"
   ]
  },
  {
   "cell_type": "code",
   "execution_count": null,
   "metadata": {},
   "outputs": [],
   "source": []
  }
 ],
 "metadata": {
  "kernelspec": {
   "display_name": "Python 3",
   "language": "python",
   "name": "python3"
  },
  "language_info": {
   "codemirror_mode": {
    "name": "ipython",
    "version": 3
   },
   "file_extension": ".py",
   "mimetype": "text/x-python",
   "name": "python",
   "nbconvert_exporter": "python",
   "pygments_lexer": "ipython3",
   "version": "3.12.6"
  }
 },
 "nbformat": 4,
 "nbformat_minor": 2
}
